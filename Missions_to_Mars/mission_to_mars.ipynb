{
 "cells": [
  {
   "cell_type": "code",
   "execution_count": 1,
   "id": "cffc4173",
   "metadata": {},
   "outputs": [],
   "source": [
    "from splinter import Browser\n",
    "from bs4 import BeautifulSoup as bs\n",
    "from webdriver_manager.chrome import ChromeDriverManager"
   ]
  },
  {
   "cell_type": "code",
   "execution_count": 2,
   "id": "5d098310",
   "metadata": {},
   "outputs": [
    {
     "name": "stderr",
     "output_type": "stream",
     "text": [
      "\n",
      "\n",
      "====== WebDriver manager ======\n",
      "Current google-chrome version is 92.0.4515\n",
      "Get LATEST driver version for 92.0.4515\n",
      "Driver [C:\\Users\\Ranjani Krishna\\.wdm\\drivers\\chromedriver\\win32\\92.0.4515.107\\chromedriver.exe] found in cache\n"
     ]
    }
   ],
   "source": [
    "# Setup splinter\n",
    "executable_path = {'executable_path': ChromeDriverManager().install()}\n",
    "browser = Browser('chrome', **executable_path, headless=False)"
   ]
  },
  {
   "cell_type": "code",
   "execution_count": 3,
   "id": "544e3d44",
   "metadata": {},
   "outputs": [],
   "source": [
    "url = 'https://redplanetscience.com/'\n",
    "browser.visit(url)"
   ]
  },
  {
   "cell_type": "markdown",
   "id": "a192f747",
   "metadata": {},
   "source": [
    "## NASA Mars News"
   ]
  },
  {
   "cell_type": "code",
   "execution_count": 4,
   "id": "340ef76e",
   "metadata": {},
   "outputs": [
    {
     "name": "stdout",
     "output_type": "stream",
     "text": [
      "--------------------------------------------------------\n",
      "Title: Heat and Dust Help Launch Martian Water Into Space, Scientists Find\n",
      "Paragraph: Scientists using an instrument aboard NASA’s Mars Atmosphere and Volatile EvolutioN, or MAVEN, spacecraft have discovered that water vapor near the surface of the Red Planet is lofted higher into the atmosphere than anyone expected was possible.\n",
      "Date: September 5, 2021\n",
      "\n",
      "--------------------------------------------------------\n",
      "Title: 3 Things We've Learned From NASA's Mars InSight\n",
      "Paragraph: Scientists are finding new mysteries since the geophysics mission landed two years ago.\n",
      "Date: September 4, 2021\n",
      "\n",
      "--------------------------------------------------------\n",
      "Title: NASA's Briefcase-Size MarCO Satellite Picks Up Honors\n",
      "Paragraph: The twin spacecraft, the first of their kind to fly into deep space, earn a Laureate from Aviation Week & Space Technology.\n",
      "Date: September 2, 2021\n",
      "\n",
      "--------------------------------------------------------\n",
      "Title: NASA's Treasure Map for Water Ice on Mars\n",
      "Paragraph: A new study identifies frozen water just below the Martian surface, where astronauts could easily dig it up.\n",
      "Date: August 30, 2021\n",
      "\n",
      "--------------------------------------------------------\n",
      "Title: A New Video Captures the Science of NASA's Perseverance Mars Rover\n",
      "Paragraph: With a targeted launch date of July 30, the next robotic scientist NASA is sending to the to the Red Planet has big ambitions.\n",
      "Date: August 29, 2021\n",
      "\n",
      "--------------------------------------------------------\n",
      "Title: Mars 2020 Stands on Its Own Six Wheels\n",
      "Paragraph: In time-lapse video, taken at JPL, captures the first time NASA's Mars 2020 rover carries its full weight on its legs and wheels.\n",
      "Date: August 29, 2021\n",
      "\n",
      "--------------------------------------------------------\n",
      "Title: NASA's Perseverance Rover Mission Getting in Shape for Launch\n",
      "Paragraph: Stacking spacecraft components on top of each other is one of the final assembly steps before a mission launches to the Red Planet.\n",
      "Date: August 22, 2021\n",
      "\n",
      "--------------------------------------------------------\n",
      "Title: NASA's New Mars Rover Will Use X-Rays to Hunt Fossils\n",
      "Paragraph: PIXL, an instrument on the end of the Perseverance rover's arm, will search for chemical fingerprints left by ancient microbes.\n",
      "Date: August 20, 2021\n",
      "\n",
      "--------------------------------------------------------\n",
      "Title: NASA's Curiosity Rover Finds an Ancient Oasis on Mars\n",
      "Paragraph: New evidence suggests salty, shallow ponds once dotted a Martian crater — a sign of the planet's drying climate.\n",
      "Date: August 19, 2021\n",
      "\n",
      "--------------------------------------------------------\n",
      "Title: The Extraordinary Sample-Gathering System of NASA's Perseverance Mars Rover\n",
      "Paragraph: Two astronauts collected Moon rocks on Apollo 11. It will take three robotic systems working together to gather up the first Mars rock samples for return to Earth.\n",
      "Date: August 15, 2021\n",
      "\n",
      "--------------------------------------------------------\n",
      "Title: NASA's Perseverance Rover Bringing 3D-Printed Metal Parts to Mars\n",
      "Paragraph: For hobbyists and makers, 3D printing expands creative possibilities; for specialized engineers, it's also key to next-generation spacecraft design.\n",
      "Date: August 14, 2021\n",
      "\n",
      "--------------------------------------------------------\n",
      "Title: NASA's Perseverance Rover Attached to Atlas V Rocket\n",
      "Paragraph: Ready for its launch later in the month, the Mars-bound rover will touch terra firma no more.\n",
      "Date: August 14, 2021\n",
      "\n",
      "--------------------------------------------------------\n",
      "Title: Two Rovers to Roll on Mars Again: Curiosity and Mars 2020\n",
      "Paragraph: They look like twins. But under the hood, the rover currently exploring the Red Planet and the one launching there this summer have distinct science tools and roles to play.\n",
      "Date: August 10, 2021\n",
      "\n",
      "--------------------------------------------------------\n",
      "Title: NASA's Perseverance Rover Will Peer Beneath Mars' Surface\n",
      "Paragraph: The agency's newest rover will use the first ground-penetrating radar instrument on the Martian surface to help search for signs of past microbial life.\n",
      "Date: August 8, 2021\n",
      "\n",
      "--------------------------------------------------------\n",
      "Title: 6 Things to Know About NASA's Ingenuity Mars Helicopter\n",
      "Paragraph: The first helicopter attempting to fly on another planet is a marvel of engineering. Get up to speed with these key facts about its plans.\n",
      "Date: August 5, 2021\n",
      "\n"
     ]
    }
   ],
   "source": [
    "html = browser.html\n",
    "soup = bs(html, 'html.parser')\n",
    "\n",
    "results = soup.find_all('div', class_='list_text')\n",
    "\n",
    "for result in results:\n",
    "    t= result.find('div', class_='content_title').text.strip()\n",
    "    p= result.find('div', class_=\"article_teaser_body\").text.strip()\n",
    "    d= result.find('div', class_=\"list_date\").text.strip()\n",
    "\n",
    "    print(\"--------------------------------------------------------\")\n",
    "    print(f\"Title: {t}\")\n",
    "    print(f\"Paragraph: {p}\")\n",
    "    print(f\"Date: {d}\")\n",
    "    print()\n",
    "   \n",
    "       \n",
    "browser.quit()"
   ]
  },
  {
   "cell_type": "code",
   "execution_count": null,
   "id": "fc97632d",
   "metadata": {},
   "outputs": [],
   "source": []
  }
 ],
 "metadata": {
  "kernelspec": {
   "display_name": "Python 3",
   "language": "python",
   "name": "python3"
  },
  "language_info": {
   "codemirror_mode": {
    "name": "ipython",
    "version": 3
   },
   "file_extension": ".py",
   "mimetype": "text/x-python",
   "name": "python",
   "nbconvert_exporter": "python",
   "pygments_lexer": "ipython3",
   "version": "3.8.8"
  }
 },
 "nbformat": 4,
 "nbformat_minor": 5
}
